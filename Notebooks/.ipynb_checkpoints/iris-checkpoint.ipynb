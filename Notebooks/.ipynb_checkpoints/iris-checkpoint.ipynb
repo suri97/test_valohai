{
 "cells": [
  {
   "cell_type": "code",
   "execution_count": null,
   "id": "1e3d3f3c",
   "metadata": {},
   "outputs": [],
   "source": [
    "!pip install scikit-learn\n",
    "#!pip install tensorflow"
   ]
  },
  {
   "cell_type": "code",
   "execution_count": null,
   "id": "1690ab70",
   "metadata": {},
   "outputs": [],
   "source": []
  },
  {
   "cell_type": "code",
   "execution_count": 13,
   "id": "b76411f3",
   "metadata": {},
   "outputs": [
    {
     "name": "stdout",
     "output_type": "stream",
     "text": [
      "2.7.0\n"
     ]
    }
   ],
   "source": [
    "import tensorflow as tf\n",
    "print (tf.__version__)"
   ]
  },
  {
   "cell_type": "code",
   "execution_count": 2,
   "id": "d76bdcfa",
   "metadata": {},
   "outputs": [],
   "source": [
    "import os\n",
    "import pandas as pd \n",
    "import numpy as np\n",
    "from sklearn.model_selection import train_test_split\n",
    "from sklearn.preprocessing import OneHotEncoder\n",
    "import valohai"
   ]
  },
  {
   "cell_type": "code",
   "execution_count": 15,
   "id": "80389c4d",
   "metadata": {},
   "outputs": [
    {
     "name": "stdout",
     "output_type": "stream",
     "text": [
      "/home/choprasu/Desktop/ml/test_valohai/Notebooks/Notebooks/Iris.csv\n"
     ]
    }
   ],
   "source": [
    "DATA_CSV_FILE = os.path.join(os.getcwd(), \"Notebooks\", \"Iris.csv\")\n",
    "print (DATA_CSV_FILE)"
   ]
  },
  {
   "cell_type": "code",
   "execution_count": 4,
   "id": "ea89967d",
   "metadata": {
    "tags": [
     "parameters"
    ]
   },
   "outputs": [],
   "source": [
    "# Parameters\n",
    "learning_rate = 0.001\n",
    "epochs = 5\n",
    "batch_size = 100"
   ]
  },
  {
   "cell_type": "code",
   "execution_count": 5,
   "id": "074b4df8",
   "metadata": {},
   "outputs": [],
   "source": [
    "iris = pd.read_csv(DATA_CSV_FILE)\n",
    "iris.drop(\"Id\", axis=1, inplace = True)"
   ]
  },
  {
   "cell_type": "code",
   "execution_count": 6,
   "id": "987a3f66",
   "metadata": {},
   "outputs": [],
   "source": [
    "x = iris[['SepalLengthCm','SepalWidthCm','PetalLengthCm','PetalWidthCm']].values\n",
    "y_ = iris.Species.values"
   ]
  },
  {
   "cell_type": "code",
   "execution_count": 7,
   "id": "3020e715",
   "metadata": {},
   "outputs": [],
   "source": [
    "y_ = y_.reshape(-1, 1) # Convert data to a single column\n",
    "\n",
    "# One Hot encode the class labels\n",
    "encoder = OneHotEncoder(sparse=False)\n",
    "y = encoder.fit_transform(y_)\n",
    "#print(y)\n",
    "\n",
    "# Split the data for training and testing\n",
    "train_x, test_x, train_y, test_y = train_test_split(x, y, test_size=0.20)"
   ]
  },
  {
   "cell_type": "code",
   "execution_count": 8,
   "id": "e96e5668",
   "metadata": {},
   "outputs": [
    {
     "name": "stdout",
     "output_type": "stream",
     "text": [
      "(120, 4)\n",
      "(120, 3)\n"
     ]
    }
   ],
   "source": [
    "print(train_x.shape)\n",
    "print(train_y.shape)"
   ]
  },
  {
   "cell_type": "code",
   "execution_count": 9,
   "id": "032bc8dd",
   "metadata": {},
   "outputs": [],
   "source": [
    "class CustomCallback(tf.keras.callbacks.Callback):\n",
    "    \n",
    "    def on_epoch_end(self, epoch, logs=None):\n",
    "        keys = list(logs.keys())\n",
    "        with valohai.metadata.logger() as logger:\n",
    "            logger.log(\"epoch\", epoch)\n",
    "            for key in keys:\n",
    "                logger.log(key, logs[key])"
   ]
  },
  {
   "cell_type": "code",
   "execution_count": 10,
   "id": "953ef13c",
   "metadata": {},
   "outputs": [
    {
     "name": "stdout",
     "output_type": "stream",
     "text": [
      "Neural Network Model Summary: \n",
      "Model: \"sequential\"\n",
      "_________________________________________________________________\n",
      " Layer (type)                Output Shape              Param #   \n",
      "=================================================================\n",
      " fc1 (Dense)                 (None, 10)                50        \n",
      "                                                                 \n",
      " fc2 (Dense)                 (None, 10)                110       \n",
      "                                                                 \n",
      " output (Dense)              (None, 3)                 33        \n",
      "                                                                 \n",
      "=================================================================\n",
      "Total params: 193\n",
      "Trainable params: 193\n",
      "Non-trainable params: 0\n",
      "_________________________________________________________________\n",
      "None\n"
     ]
    },
    {
     "name": "stderr",
     "output_type": "stream",
     "text": [
      "2022-01-10 18:07:02.473217: W tensorflow/stream_executor/platform/default/dso_loader.cc:64] Could not load dynamic library 'libcuda.so.1'; dlerror: libcuda.so.1: cannot open shared object file: No such file or directory; LD_LIBRARY_PATH: /home/choprasu/tmp/sqlite3/lib/\n",
      "2022-01-10 18:07:02.473301: W tensorflow/stream_executor/cuda/cuda_driver.cc:269] failed call to cuInit: UNKNOWN ERROR (303)\n",
      "2022-01-10 18:07:02.473337: I tensorflow/stream_executor/cuda/cuda_diagnostics.cc:156] kernel driver does not appear to be running on this host (a-2xjpj9pnvruee): /proc/driver/nvidia/version does not exist\n",
      "2022-01-10 18:07:02.473730: I tensorflow/core/platform/cpu_feature_guard.cc:151] This TensorFlow binary is optimized with oneAPI Deep Neural Network Library (oneDNN) to use the following CPU instructions in performance-critical operations:  AVX2 AVX512F FMA\n",
      "To enable them in other operations, rebuild TensorFlow with the appropriate compiler flags.\n",
      "/home/choprasu/Desktop/ml/env/lib64/python3.7/site-packages/keras/optimizer_v2/adam.py:105: UserWarning: The `lr` argument is deprecated, use `learning_rate` instead.\n",
      "  super(Adam, self).__init__(name, **kwargs)\n"
     ]
    }
   ],
   "source": [
    "model = tf.keras.models.Sequential()\n",
    "\n",
    "model.add(tf.keras.layers.Dense(10, input_shape=(4,), activation='relu', name='fc1'))\n",
    "model.add(tf.keras.layers.Dense(10, activation='relu', name='fc2'))\n",
    "model.add(tf.keras.layers.Dense(3, activation='softmax', name='output'))\n",
    "\n",
    "# Adam optimizer with learning rate of 0.001\n",
    "optimizer = tf.keras.optimizers.Adam(lr=learning_rate)\n",
    "model.compile(optimizer, loss='categorical_crossentropy', metrics=['accuracy'])\n",
    "\n",
    "print('Neural Network Model Summary: ')\n",
    "print(model.summary())"
   ]
  },
  {
   "cell_type": "code",
   "execution_count": 11,
   "id": "89c3f6d0",
   "metadata": {},
   "outputs": [
    {
     "name": "stdout",
     "output_type": "stream",
     "text": [
      "Epoch 1/5\n",
      "\n",
      "{\"epoch\": 0, \"loss\": 1.2295314073562622, \"accuracy\": 0.3083333373069763}\n",
      "2/2 - 1s - loss: 1.2295 - accuracy: 0.3083 - 523ms/epoch - 261ms/step\n",
      "Epoch 2/5\n",
      "\n",
      "{\"epoch\": 1, \"loss\": 1.2060948610305786, \"accuracy\": 0.32499998807907104}\n",
      "2/2 - 0s - loss: 1.2061 - accuracy: 0.3250 - 5ms/epoch - 2ms/step\n",
      "Epoch 3/5\n",
      "\n",
      "{\"epoch\": 2, \"loss\": 1.1868776082992554, \"accuracy\": 0.32499998807907104}\n",
      "2/2 - 0s - loss: 1.1869 - accuracy: 0.3250 - 6ms/epoch - 3ms/step\n",
      "Epoch 4/5\n",
      "\n",
      "{\"epoch\": 3, \"loss\": 1.1699867248535156, \"accuracy\": 0.32499998807907104}\n",
      "2/2 - 0s - loss: 1.1700 - accuracy: 0.3250 - 5ms/epoch - 3ms/step\n",
      "Epoch 5/5\n",
      "\n",
      "{\"epoch\": 4, \"loss\": 1.1560242176055908, \"accuracy\": 0.3333333432674408}\n",
      "2/2 - 0s - loss: 1.1560 - accuracy: 0.3333 - 10ms/epoch - 5ms/step\n"
     ]
    },
    {
     "data": {
      "text/plain": [
       "<keras.callbacks.History at 0x7f253e0f9210>"
      ]
     },
     "execution_count": 11,
     "metadata": {},
     "output_type": "execute_result"
    }
   ],
   "source": [
    "model.fit(train_x, train_y, verbose=2, batch_size=batch_size, epochs=epochs, callbacks=[CustomCallback()])"
   ]
  },
  {
   "cell_type": "code",
   "execution_count": 12,
   "id": "9d1fc9bd",
   "metadata": {},
   "outputs": [
    {
     "name": "stdout",
     "output_type": "stream",
     "text": [
      "1/1 [==============================] - 0s 175ms/step - loss: 1.1215 - accuracy: 0.3333\n",
      "Final test set loss: 1.121497\n",
      "Final test set accuracy: 0.333333\n"
     ]
    }
   ],
   "source": [
    "# Test on unseen data\n",
    "\n",
    "results = model.evaluate(test_x, test_y)\n",
    "\n",
    "print('Final test set loss: {:4f}'.format(results[0]))\n",
    "print('Final test set accuracy: {:4f}'.format(results[1]))"
   ]
  },
  {
   "cell_type": "code",
   "execution_count": null,
   "id": "0b16d6b4",
   "metadata": {},
   "outputs": [],
   "source": []
  }
 ],
 "metadata": {
  "celltoolbar": "Tags",
  "kernelspec": {
   "display_name": "Python 3 (ipykernel)",
   "language": "python",
   "name": "python3"
  },
  "language_info": {
   "codemirror_mode": {
    "name": "ipython",
    "version": 3
   },
   "file_extension": ".py",
   "mimetype": "text/x-python",
   "name": "python",
   "nbconvert_exporter": "python",
   "pygments_lexer": "ipython3",
   "version": "3.7.10"
  }
 },
 "nbformat": 4,
 "nbformat_minor": 5
}
